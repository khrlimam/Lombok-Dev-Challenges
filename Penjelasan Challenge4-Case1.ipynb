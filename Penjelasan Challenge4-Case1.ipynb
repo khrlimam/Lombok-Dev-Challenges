{
 "cells": [
  {
   "cell_type": "markdown",
   "metadata": {},
   "source": [
    "### Soal challenge ini bisa dilihat di\n",
    "[Climbing The Leaderboard](Climbing-The-Leaderboard.pdf)\n",
    "\n",
    "### Objektif soal\n",
    "Menentukan **posisi** Alice pada papan skor. Posisi ditentukan dari nilai skor yang diperoleh, skor yang paling tinggi menempati posisi pertama dan diikuti skor tertinggi kedua dan seterusnya dan skor yang sama akan mendapatkan posisi yang sama. Secara visual contoh posisi skor bisa dilihat pada tabel dibawah:\n",
    "\n",
    "| Posisi | Skor | Nama |\n",
    "|:------:|:----:|:----:|\n",
    "| 1      | 100  | Emma |\n",
    "| 1      | 100  | David|\n",
    "| 2      | 50   | Caroline|\n",
    "| 3      | 40   | Ritika|\n",
    "| 3      | 40   | Tom  |\n",
    "| 4      | 20   | Heraldo |\n",
    "| 5      | 10   | Riley|\n",
    "\n",
    "### Pertanyaan\n",
    "Pada posisi keberapakah Alice dari setiap skor yang diperoleh setiap bermain?\n",
    "\n",
    "### Jawab\n",
    "**Kesimpulan yang diperoleh dari soal**:\n",
    "1. Skor terurut secara descending (dari besar ke kecil)\n",
    "2. Posisi skor dihitung berdasarkan nilai skor, maka jika ada skor yang sama posisinya juga sama.\n",
    "\n",
    "**Jika menggunakan python, secara naif dengan fungsi-fungsi yang tersedia kita bisa dengan cepat melakukan langkah-langkah dibawah:**\n",
    "1. Urutkan setiap skor yang berbeda pada papan skor secara descending (`sort(set(list))`)\n",
    "2. Berikan label angka dimulai dari 1 dan seterusnya kepada setiap skor yang berbeda (`enumerate()`)\n",
    "3. Tambahkan skor pemain baru ke papan skor (`list.add()`)\n",
    "4. Ulangi langkah 1-2 untuk memberi label skor kepada skor yang baru ditambahkan.\n",
    "\n",
    "Namun cara diatas panjang dan kompleks. Tingkat kompleksitasnya bisa linear atau bahkan kuadratik karena ada beberapa perulangan dan perulangan bercabang yang harus dilakukan, seperti pengurutan yang dilakukan berulang, pemberian label kepada setiap skor.\n",
    "\n",
    "Untuk mencegah pengurutan yang dilakukan berulang diatas, kita perlu algoritma yang bisa mengetahui **pada posisi keberapa** angka **`x `** harus diletakkan jika dimasukkan pada **`list y`** agar **`list y`** **tetap terurut** (asumsikan `list y` telah terurut). Dengan demikian kita tidak perlu melakukan sorting berulang. Kita bisa saja menulis algoritma sesuai kebutuhan tersebut, namun kabar baiknya python telah menyediakan modul bernama [`bisect`](https://docs.python.org/3/library/bisect.html). Algoritma `bisect` mirip seperti `binary search` sehingga kompleksitas algoritma ini _logaritmik_ (_worst case_ `O(log n)` dan _best case_ `O(1)`). Jika anda maniak komputer dan ingin tahu cara kerja/implementasi algoritma ini secara detail anda bisa kunjungi link: [bisect algorithm](https://github.com/python/cpython/blob/3.7/Lib/bisect.py#L22)\n",
    "\n",
    "### PoC"
   ]
  },
  {
   "cell_type": "code",
   "execution_count": 2,
   "metadata": {},
   "outputs": [
    {
     "name": "stdout",
     "output_type": "stream",
     "text": [
      "7\n",
      "100 100 50 40 40 20 10\n",
      "4\n",
      "5 25 50 120\n",
      "6\n",
      "4\n",
      "2\n",
      "1\n"
     ]
    }
   ],
   "source": [
    "import bisect\n",
    "\n",
    "n = int(input())\n",
    "n_scores = input() #1\n",
    "n_scores = map(int, n_scores.split()) #2\n",
    "\n",
    "m = int(input())\n",
    "m_scores = input() #3\n",
    "m_scores = map(int, m_scores.split()) #4\n",
    "\n",
    "sort_unduplicate_scores = sorted(set(n_scores)) #5\n",
    "for alice_score in m_scores:\n",
    "    index = bisect.bisect(sort_unduplicate_scores, alice_score) #6\n",
    "    position = len(sort_unduplicate_scores)-index+1 #7\n",
    "    print(position)\n"
   ]
  },
  {
   "cell_type": "markdown",
   "metadata": {},
   "source": [
    "### Penjelasan\n",
    "**#1** Baca semua skor yang ada di papan skor\n",
    "\n",
    "**#2** Simpan nilai-nilai papan skor ke dalam `list`\n",
    "\n",
    "**#3** Baca setiap skor baru dari alice\n",
    "\n",
    "**#4** Simpan setiap skor baru Alice ke dalam `list`\n",
    "\n",
    "**#5** Hilangkan skor yang duplikasi (sesuai kesimpulan poin 2). Kita menggunakan struktur data `set` untuk menghilangkap skor yang duplikasi, skor yang telah bersih dari duplikasi diurutkan secara ascending (dari kecil ke besar), ini dilakukan karena algoritma `bisect` bekerja dengan `list` yang telah terurut secara ascending. \n",
    "\n",
    "**#6** Metode `bisect.bisect` hanya akan mengembalikan `index` posisi terurut dari nilai `alice_score` pada _list_ `sort_unduplicate_score` **TANPA** benar-benar menyimpannya kedalam `list`, ini menguntungkan bagi kita karena jika kita juga harus menyimpan data skor Alice ke papan skor akan ada kemungkinan duplikasi skor maka akan ada proses pembersihan duplikasi skor kembali. Yang Kita butuhkan hanya informasi posisi skor Alice jika dimasukkan ke dalam `list` jadi metode ini sangat tepat. Adapun jika ternyata ada skor Alice yang sama/telah ada di papan skor, algortma `bisect` akan mengembalikan nilai index paling kanan (persis setelah nilai yang sama) ini menguntungkan bagi kita karena kita akan menghitung skor secara terurut mulai dari kanan (karena skor telah kita urutkan secara _ascending_)\n",
    "\n",
    "**#7** Karena skor telah kita urutkan secara _ascending_ dan karena skor terurut dari besar ke kecil (sesuai kesimpulan poin 1) maka cara kita menentukan posisi skor Alice adalah menghitung jarak dari posisi skor paling kanan (`len(sort_unduplicate_score)`) dengan posisi skor Alice (`index`) yang didapat pada penjelasan **#6**, kemudian kita tambahkan 1 karena secara keadaan papan skor telah bertambah nilai skor Alice."
   ]
  }
 ],
 "metadata": {
  "kernelspec": {
   "display_name": "Python 2",
   "language": "python",
   "name": "python2"
  },
  "language_info": {
   "codemirror_mode": {
    "name": "ipython",
    "version": 3
   },
   "file_extension": ".py",
   "mimetype": "text/x-python",
   "name": "python",
   "nbconvert_exporter": "python",
   "pygments_lexer": "ipython3",
   "version": "3.4.3"
  }
 },
 "nbformat": 4,
 "nbformat_minor": 2
}
